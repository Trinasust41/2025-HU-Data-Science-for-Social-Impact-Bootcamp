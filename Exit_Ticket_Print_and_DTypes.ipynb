{
  "nbformat": 4,
  "nbformat_minor": 0,
  "metadata": {
    "colab": {
      "provenance": [],
      "include_colab_link": true
    },
    "kernelspec": {
      "name": "python3",
      "display_name": "Python 3"
    },
    "language_info": {
      "name": "python"
    }
  },
  "cells": [
    {
      "cell_type": "markdown",
      "metadata": {
        "id": "view-in-github",
        "colab_type": "text"
      },
      "source": [
        "<a href=\"https://colab.research.google.com/github/Trinasust41/2025-HU-Data-Science-for-Social-Impact-Bootcamp/blob/main/Exit_Ticket_Print_and_DTypes.ipynb\" target=\"_parent\"><img src=\"https://colab.research.google.com/assets/colab-badge.svg\" alt=\"Open In Colab\"/></a>"
      ]
    },
    {
      "cell_type": "markdown",
      "metadata": {
        "id": "F1gmTOXrOz8o"
      },
      "source": [
        "# Data Types in Python\n",
        "\n",
        "This notebook is aimed at shedding some light on the different data types in Python. This shall form a strong foundation for your programming and Data Science journey."
      ]
    },
    {
      "cell_type": "markdown",
      "metadata": {
        "id": "7QqpOZ_eOz8s"
      },
      "source": [
        "## Numeric Data Type"
      ]
    },
    {
      "cell_type": "markdown",
      "metadata": {
        "id": "LUutoZFPOz8u"
      },
      "source": [
        "You can check the data type of an object using the `type()` command.\n",
        "The syntax looks like this: `type(variableName)`"
      ]
    },
    {
      "cell_type": "markdown",
      "source": [
        "### Your turn now.\n",
        "Store the following into three different objects and check their data types:\n",
        "* 2\n",
        "* 1086J\n",
        "* 3.14567"
      ],
      "metadata": {
        "id": "OIUTZNCXP5i5"
      }
    },
    {
      "cell_type": "code",
      "execution_count": 42,
      "metadata": {
        "id": "NDyorQr3Oz8y",
        "colab": {
          "base_uri": "https://localhost:8080/"
        },
        "outputId": "1bd56ee2-b726-4a5e-91a0-69529d222fa3"
      },
      "outputs": [
        {
          "output_type": "stream",
          "name": "stdout",
          "text": [
            "<class 'int'>\n"
          ]
        }
      ],
      "source": [
        "# Create an object with a value of 2\n",
        "\n",
        "firstVariable = 2\n",
        "\n",
        "# Check the data types\n",
        "print(type(firstVariable))"
      ]
    },
    {
      "cell_type": "code",
      "execution_count": 43,
      "metadata": {
        "id": "yCnIeFx8UOQJ",
        "colab": {
          "base_uri": "https://localhost:8080/"
        },
        "outputId": "3aa62fa3-a302-4030-d8ff-caf422319680"
      },
      "outputs": [
        {
          "output_type": "stream",
          "name": "stdout",
          "text": [
            "<class 'str'>\n"
          ]
        }
      ],
      "source": [
        "# Create an object with a value of 1086J\n",
        "secondVariable = '1086J'\n",
        "\n",
        "# Check the data type\n",
        "print(type(secondVariable))\n"
      ]
    },
    {
      "cell_type": "code",
      "execution_count": 44,
      "metadata": {
        "id": "QCsczuMrUOZg",
        "colab": {
          "base_uri": "https://localhost:8080/"
        },
        "outputId": "4e42c3ff-fe65-4fe8-b218-16862ddcbb0a"
      },
      "outputs": [
        {
          "output_type": "stream",
          "name": "stdout",
          "text": [
            "<class 'float'>\n"
          ]
        }
      ],
      "source": [
        "# Create an object with a value of 3.14567\n",
        "thirdVariable = 3.14567\n",
        "\n",
        "# Check the data type\n",
        "print(type(thirdVariable))\n"
      ]
    },
    {
      "cell_type": "markdown",
      "metadata": {
        "id": "PI5eLU4mOz80"
      },
      "source": [
        "## String Data Type"
      ]
    },
    {
      "cell_type": "markdown",
      "metadata": {
        "id": "a-eIVjF9Oz80"
      },
      "source": [
        "String Data type usually is used to store text. The data to be stored in this data type is enclosed between single ('') or double (\"\") quotes.\n",
        "Recall that you printed your name in the previous Notebook. That was string data type.\n",
        "Let's look at an example."
      ]
    },
    {
      "cell_type": "code",
      "execution_count": 45,
      "metadata": {
        "id": "dUYETGSROz80",
        "colab": {
          "base_uri": "https://localhost:8080/"
        },
        "outputId": "a05ae7dd-3aae-490d-bb68-e423ba347b23"
      },
      "outputs": [
        {
          "output_type": "stream",
          "name": "stdout",
          "text": [
            "Trina Chakraborty\n"
          ]
        }
      ],
      "source": [
        "# Printing your name\n",
        "myName = \"Trina Chakraborty\"\n",
        "\n",
        "# Check the results of the My_Name variable\n",
        "print(myName)\n"
      ]
    },
    {
      "cell_type": "code",
      "execution_count": 46,
      "metadata": {
        "id": "vYHxbnk8Oz81",
        "colab": {
          "base_uri": "https://localhost:8080/"
        },
        "outputId": "e11d7e13-298c-4cd6-84b3-846bf731ee33"
      },
      "outputs": [
        {
          "output_type": "execute_result",
          "data": {
            "text/plain": [
              "str"
            ]
          },
          "metadata": {},
          "execution_count": 46
        }
      ],
      "source": [
        "# Check the data type of the My_Name variable\n",
        "type(myName)"
      ]
    },
    {
      "cell_type": "markdown",
      "source": [
        "You can combine string methods with print statements to request information from a user. This uses the `input` statement and gives users a blinking cursor to enter information.\n",
        "\n",
        "Complex print statements are also possible where it prints string text, the contents of a variable, and even perform small operations in the statement and return the results. In the example below we will create a variable called `my_name` and use the input method to ask the user to input their name. From there we can print a statement saying hello, the user's entered name, and some punctuation. In the next print statement we can use the `type()` method to print the data type of the variable `my_name`."
      ],
      "metadata": {
        "id": "8-U9oGeoR9Mb"
      }
    },
    {
      "cell_type": "code",
      "execution_count": 47,
      "metadata": {
        "id": "g138tt3WOz81",
        "colab": {
          "base_uri": "https://localhost:8080/"
        },
        "outputId": "eb04d9e3-ad7e-4292-c781-8939d051f98e"
      },
      "outputs": [
        {
          "output_type": "stream",
          "name": "stdout",
          "text": [
            "What is your name? Trina\n",
            "Greeting Trina !\n",
            "Your name is a  <class 'str'>\n"
          ]
        }
      ],
      "source": [
        "# Your turn to play around now.\n",
        "# Use the input statement to ask a user to enter their name\n",
        "# Syntax looks like this: descriptiveVariableName = input(\"Question to be asked? \")\n",
        "userName = input(\"What is your name? \")\n",
        "\n",
        "# Use a print statement to check your input. Add a greeting to your statement.\n",
        "# Syntax looks like this: print(\"Greeting\", descriptiveVariableName, \"!\")\n",
        "\n",
        "print(\"Greeting\", userName,\"!\")\n",
        "# Now use a print statement to tell the user the data type.\n",
        "# Syntax looks like this: print(\"Your name is a \",type(descriptiveVariableName))\n",
        "\n",
        "print(\"Your name is a \",type(userName))"
      ]
    },
    {
      "cell_type": "markdown",
      "metadata": {
        "id": "5bEdKCA0Oz81"
      },
      "source": [
        "Various functions can be performed using strings like searching within a string, conversion to lowercase/uppercase, count, length, splitting, replacing, trimming, partitioning etc."
      ]
    },
    {
      "cell_type": "code",
      "execution_count": 48,
      "metadata": {
        "id": "d3CVN5izOz81",
        "colab": {
          "base_uri": "https://localhost:8080/"
        },
        "outputId": "ad049798-39b7-45ae-c194-2fc1c9c6373a"
      },
      "outputs": [
        {
          "output_type": "execute_result",
          "data": {
            "text/plain": [
              "17"
            ]
          },
          "metadata": {},
          "execution_count": 48
        }
      ],
      "source": [
        "# Let's check how many characters does your name contain.\n",
        "# Syntax: len(variableName)\n",
        "len(myName)"
      ]
    },
    {
      "cell_type": "code",
      "execution_count": 49,
      "metadata": {
        "id": "q-yeOolwOz82",
        "colab": {
          "base_uri": "https://localhost:8080/"
        },
        "outputId": "06e28ff7-7462-413e-9d71-ea90643a0240"
      },
      "outputs": [
        {
          "output_type": "execute_result",
          "data": {
            "text/plain": [
              "False"
            ]
          },
          "metadata": {},
          "execution_count": 49
        }
      ],
      "source": [
        "# Let's see if My_Name is all Caps or not.\n",
        "# isupper() returns True if all the letters are Capitals, False if atleast one letter in in lower case.\n",
        "# Syntax: variableName.isupper()\n",
        "myName.isupper()"
      ]
    },
    {
      "cell_type": "code",
      "execution_count": 50,
      "metadata": {
        "id": "RQfxPz_KOz82",
        "colab": {
          "base_uri": "https://localhost:8080/"
        },
        "outputId": "9f72d177-3e7e-469a-a1d6-f3c0cca9f406"
      },
      "outputs": [
        {
          "output_type": "stream",
          "name": "stdout",
          "text": [
            "TRINA CHAKRABORTY\n"
          ]
        }
      ],
      "source": [
        "# Let's convert My_Name to all caps.\n",
        "# Syntax: variableName = variableName.upper()\n",
        "myName = myName.upper()\n",
        "\n",
        "# Call the variable using the variable name.\n",
        "\n",
        "print(myName)"
      ]
    },
    {
      "cell_type": "code",
      "execution_count": 51,
      "metadata": {
        "id": "CnxJVlo0Oz82",
        "colab": {
          "base_uri": "https://localhost:8080/"
        },
        "outputId": "ab5cba5f-96bc-4208-8a0d-5dcb129c89d9"
      },
      "outputs": [
        {
          "output_type": "execute_result",
          "data": {
            "text/plain": [
              "True"
            ]
          },
          "metadata": {},
          "execution_count": 51
        }
      ],
      "source": [
        "# Check the uppercase again,\n",
        "# Now the output of isupper() changes to True.\n",
        "\n",
        "myName.isupper()"
      ]
    },
    {
      "cell_type": "code",
      "execution_count": 52,
      "metadata": {
        "id": "HHKRD0eKOz83",
        "colab": {
          "base_uri": "https://localhost:8080/"
        },
        "outputId": "8b019a10-e726-47ff-b4d5-1b3edc17bc94"
      },
      "outputs": [
        {
          "output_type": "stream",
          "name": "stdout",
          "text": [
            "i am attending a course\n",
            "I AM ATTENDING A COURSE\n",
            "I am attending a course\n",
            "I Am Attending A Course\n"
          ]
        }
      ],
      "source": [
        "# Your turn to try it now.\n",
        "# Write a sentence and store it into an object.\n",
        "# Don't forget quotation marks for strings\n",
        "new_sentence = \"i am attending a course\"\n",
        "# Use a print statement to view your new_sentence\n",
        "print(new_sentence)\n",
        "# Use the .upper() method in a print statement to print the upper case sentence\n",
        "# HINT: Use a print statement, your variable name, and the .upper() method\n",
        "new_sentence = new_sentence.upper()\n",
        "print(new_sentence)\n",
        "\n",
        "# Use the .capitalize() method to print the sentence with the first word capitalized.\n",
        "new_sentence = new_sentence.capitalize()\n",
        "print(new_sentence)\n",
        "\n",
        "# Use the .title() method to print the sentence with the first letter of each word capitalized.\n",
        "\n",
        "new_sentence = new_sentence.title()\n",
        "print(new_sentence)"
      ]
    },
    {
      "cell_type": "code",
      "execution_count": 53,
      "metadata": {
        "id": "_RU2iVcdOz83",
        "colab": {
          "base_uri": "https://localhost:8080/"
        },
        "outputId": "497094da-f1d2-4652-9c27-171d4051f9d9"
      },
      "outputs": [
        {
          "output_type": "stream",
          "name": "stdout",
          "text": [
            "<class 'str'>\n"
          ]
        }
      ],
      "source": [
        "# Check the data type of the object you just created.\n",
        "\n",
        "print(type(new_sentence))\n"
      ]
    },
    {
      "cell_type": "code",
      "execution_count": 54,
      "metadata": {
        "id": "zTwyEacgOz83",
        "colab": {
          "base_uri": "https://localhost:8080/"
        },
        "outputId": "b9bd26c0-3621-4baf-885a-d6bd56503d28"
      },
      "outputs": [
        {
          "output_type": "execute_result",
          "data": {
            "text/plain": [
              "False"
            ]
          },
          "metadata": {},
          "execution_count": 54
        }
      ],
      "source": [
        "# Check if it is all caps or not.\n",
        "# Syntax: variableName.isupper()\n",
        "new_sentence.isupper()"
      ]
    },
    {
      "cell_type": "code",
      "execution_count": 55,
      "metadata": {
        "id": "OFuwYxoHOz83",
        "colab": {
          "base_uri": "https://localhost:8080/"
        },
        "outputId": "9b5b261c-8548-4a68-b5b3-1828413f6a7f"
      },
      "outputs": [
        {
          "output_type": "execute_result",
          "data": {
            "text/plain": [
              "False"
            ]
          },
          "metadata": {},
          "execution_count": 55
        }
      ],
      "source": [
        "# Challenge - Check if it is all lower case or not.\n",
        "# Use the example above to complete the challenge question\n",
        "\n",
        "new_sentence.islower()"
      ]
    },
    {
      "cell_type": "code",
      "execution_count": 56,
      "metadata": {
        "id": "gQTsgka1Oz84",
        "colab": {
          "base_uri": "https://localhost:8080/"
        },
        "outputId": "870dc3e9-836a-44af-f20a-910c746800bb"
      },
      "outputs": [
        {
          "output_type": "stream",
          "name": "stdout",
          "text": [
            "I AM ATTENDING A COURSE\n"
          ]
        }
      ],
      "source": [
        "# Challenge - Convert your object into all caps.\n",
        "\n",
        "new_sentence= new_sentence.upper()\n",
        "print(new_sentence)"
      ]
    },
    {
      "cell_type": "code",
      "execution_count": 57,
      "metadata": {
        "id": "FfURhkuaOz84",
        "colab": {
          "base_uri": "https://localhost:8080/"
        },
        "outputId": "7b96a8a8-a678-4cc1-aa87-e76184cb5fed"
      },
      "outputs": [
        {
          "output_type": "stream",
          "name": "stdout",
          "text": [
            "i am attending a course\n"
          ]
        }
      ],
      "source": [
        "# Challenge - Convert your object into all lower case.\n",
        "new_sentence = new_sentence.lower()\n",
        "print(new_sentence)\n"
      ]
    },
    {
      "cell_type": "markdown",
      "metadata": {
        "id": "zpLbuwP6Oz84"
      },
      "source": [
        "## Boolean Data Type"
      ]
    },
    {
      "cell_type": "markdown",
      "metadata": {
        "id": "IXJ4iCMgOz84"
      },
      "source": [
        "The boolean data type has just two values, i.e., True or False."
      ]
    },
    {
      "cell_type": "code",
      "execution_count": 58,
      "metadata": {
        "id": "Qzolj8lPOz85"
      },
      "outputs": [],
      "source": [
        "# Create two variables, one with a value of True, one with a value of False\n",
        "variable1 = True\n",
        "variable2 = False\n"
      ]
    },
    {
      "cell_type": "code",
      "execution_count": 59,
      "metadata": {
        "id": "53_SQLshOz85",
        "colab": {
          "base_uri": "https://localhost:8080/"
        },
        "outputId": "ff047ed7-3b27-471f-9778-8d732ff64812"
      },
      "outputs": [
        {
          "output_type": "stream",
          "name": "stdout",
          "text": [
            "<class 'bool'>\n",
            "<class 'bool'>\n",
            "<class 'bool'> <class 'bool'>\n"
          ]
        }
      ],
      "source": [
        "# Check the data type of your variables.\n",
        "print(type(variable1))\n",
        "print(type(variable2))\n",
        "# HINT: you can check multiple items by separating the statements with a comma\n",
        "\n",
        "print(type(variable1),type(variable2))"
      ]
    },
    {
      "cell_type": "markdown",
      "metadata": {
        "id": "JnXKU29fOz85"
      },
      "source": [
        "## Data Type Conversions"
      ]
    },
    {
      "cell_type": "markdown",
      "metadata": {
        "id": "xxFOfebXOz85"
      },
      "source": [
        "As explained earlier, data should be stored in correct form so that it can be manipulated efficiently later.\n",
        "Quite a lot of times, data is not stored correctly or it gets imported incorrectly.\n",
        "In such cases, data needs to be converted to its correct type so that it can be optimally used in our analysis.\n",
        "Thus, let's look at data type conversion exercises to get you comfortable with the process."
      ]
    },
    {
      "cell_type": "code",
      "execution_count": 60,
      "metadata": {
        "id": "8aGHMkW7Oz86"
      },
      "outputs": [],
      "source": [
        "# Create an object containing an integer.\n",
        "objValue = 12"
      ]
    },
    {
      "cell_type": "code",
      "execution_count": 61,
      "metadata": {
        "id": "-dQdECzdOz86",
        "colab": {
          "base_uri": "https://localhost:8080/"
        },
        "outputId": "82b06b3f-437b-4261-802d-3fd3f67b5fb8"
      },
      "outputs": [
        {
          "output_type": "execute_result",
          "data": {
            "text/plain": [
              "int"
            ]
          },
          "metadata": {},
          "execution_count": 61
        }
      ],
      "source": [
        "# Check the data type of your new object\n",
        "type(objValue)\n"
      ]
    },
    {
      "cell_type": "code",
      "execution_count": 62,
      "metadata": {
        "id": "T30wagKUOz86"
      },
      "outputs": [],
      "source": [
        "# You want to use the value 1 as text. So let's convert it.\n",
        "# Syntax: variableName = str(variableName)\n",
        "objValue = str(objValue)\n"
      ]
    },
    {
      "cell_type": "code",
      "execution_count": 63,
      "metadata": {
        "id": "FMEvdM1WOz86",
        "colab": {
          "base_uri": "https://localhost:8080/"
        },
        "outputId": "7d4ca756-634f-436a-bc44-d61a2475d2cd"
      },
      "outputs": [
        {
          "output_type": "execute_result",
          "data": {
            "text/plain": [
              "str"
            ]
          },
          "metadata": {},
          "execution_count": 63
        }
      ],
      "source": [
        "# Check the data type of your new object again.\n",
        "type(objValue)"
      ]
    },
    {
      "cell_type": "code",
      "execution_count": 64,
      "metadata": {
        "id": "8j-uQXBaOz9S",
        "colab": {
          "base_uri": "https://localhost:8080/"
        },
        "outputId": "44dadd21-7782-4a9b-897b-e163acbea290"
      },
      "outputs": [
        {
          "output_type": "execute_result",
          "data": {
            "text/plain": [
              "str"
            ]
          },
          "metadata": {},
          "execution_count": 64
        }
      ],
      "source": [
        "# Exercise for you. Store the number 123456 as string.\n",
        "strValue = '123456'\n",
        "# Check the data type\n",
        "\n",
        "type(strValue)"
      ]
    },
    {
      "cell_type": "code",
      "execution_count": 65,
      "metadata": {
        "id": "b5CuVvSQOz9T",
        "colab": {
          "base_uri": "https://localhost:8080/"
        },
        "outputId": "bdf8dfe2-9ecd-4bdd-cf9e-308bb80c61ab"
      },
      "outputs": [
        {
          "output_type": "execute_result",
          "data": {
            "text/plain": [
              "str"
            ]
          },
          "metadata": {},
          "execution_count": 65
        }
      ],
      "source": [
        "# Let's do the opposite now.\n",
        "# Create a variable and assign a numeric value as a string\n",
        "# HINT: Any value inside of quotes is a string\n",
        "\n",
        "objValue2 = '12'\n",
        "# Check the data type of your variable\n",
        "\n",
        "type(objValue2)"
      ]
    },
    {
      "cell_type": "code",
      "execution_count": 66,
      "metadata": {
        "id": "uomNdG-OOz9T",
        "colab": {
          "base_uri": "https://localhost:8080/"
        },
        "outputId": "ebb2e2da-9db6-44db-8b0a-7e2df5129e38"
      },
      "outputs": [
        {
          "output_type": "execute_result",
          "data": {
            "text/plain": [
              "int"
            ]
          },
          "metadata": {},
          "execution_count": 66
        }
      ],
      "source": [
        "# Let's learn to convert string to integer now.\n",
        "# Syntax: variableName = int(variableName)\n",
        "objValue2 = int(objValue2)\n",
        "\n",
        "# Check the data type\n",
        "type(objValue2)\n"
      ]
    },
    {
      "cell_type": "code",
      "execution_count": 67,
      "metadata": {
        "id": "p6c6Oj-oOz9T",
        "colab": {
          "base_uri": "https://localhost:8080/"
        },
        "outputId": "0c4eb3ec-b26a-41b3-eb08-54512d6aa462"
      },
      "outputs": [
        {
          "output_type": "execute_result",
          "data": {
            "text/plain": [
              "float"
            ]
          },
          "metadata": {},
          "execution_count": 67
        }
      ],
      "source": [
        "# Let's convert a string to a float.\n",
        "# Syntax: variableName = float(variableName)\n",
        "objValue3 = '12.34'\n",
        "objValue3 = float(objValue3)\n",
        "# Check the data type\n",
        "type(objValue3)"
      ]
    },
    {
      "cell_type": "markdown",
      "metadata": {
        "id": "9QBKh6rWOz9U"
      },
      "source": [
        "Good job so far!\n",
        "You can also try converting strings to boolean and vice versa.\n",
        "You could also try conversions from integers to float and float to integer.\n",
        "\n",
        "Python is an intuitive language, so by default it stores data into correct formats.\n",
        "But very often we come across data being stored incorrectly especially while importing."
      ]
    },
    {
      "cell_type": "code",
      "source": [
        "# Convert string to boolean\n",
        "string_value = \"True\"\n",
        "print(type(string_value))\n",
        "bool_value = bool(string_value)\n",
        "print(bool_value)\n",
        "print(type(bool_value))"
      ],
      "metadata": {
        "colab": {
          "base_uri": "https://localhost:8080/"
        },
        "id": "kSOInjEAwH8X",
        "outputId": "a4f6278e-9a2f-4a05-ea21-8a55c9d73786"
      },
      "execution_count": 68,
      "outputs": [
        {
          "output_type": "stream",
          "name": "stdout",
          "text": [
            "<class 'str'>\n",
            "True\n",
            "<class 'bool'>\n"
          ]
        }
      ]
    },
    {
      "cell_type": "code",
      "source": [
        "# Convert boolean to string\n",
        "bool_value = True\n",
        "print(type(bool_value))\n",
        "string_value = str(bool_value)\n",
        "print(string_value)\n",
        "print(type(string_value))\n"
      ],
      "metadata": {
        "colab": {
          "base_uri": "https://localhost:8080/"
        },
        "id": "Xxu8XYCXweqi",
        "outputId": "96096d5e-cc34-4f4d-cead-5d2ec8274ec5"
      },
      "execution_count": 69,
      "outputs": [
        {
          "output_type": "stream",
          "name": "stdout",
          "text": [
            "<class 'bool'>\n",
            "True\n",
            "<class 'str'>\n"
          ]
        }
      ]
    },
    {
      "cell_type": "code",
      "source": [
        "#int to float\n",
        "num = 5\n",
        "float_val = float(num)\n",
        "print(float_val)\n",
        "print(type(float_val))\n"
      ],
      "metadata": {
        "colab": {
          "base_uri": "https://localhost:8080/"
        },
        "id": "_a5r2mvNvzoY",
        "outputId": "0e50c9dd-1b0d-42e3-cd2b-97d4e4efbb4e"
      },
      "execution_count": 70,
      "outputs": [
        {
          "output_type": "stream",
          "name": "stdout",
          "text": [
            "5.0\n",
            "<class 'float'>\n"
          ]
        }
      ]
    },
    {
      "cell_type": "code",
      "source": [
        "#float to int\n",
        "float_num = 5.9\n",
        "int_val = int(float_num)\n",
        "print(int_val)\n",
        "print(type(int_val))"
      ],
      "metadata": {
        "colab": {
          "base_uri": "https://localhost:8080/"
        },
        "id": "aG5icyOVv2Vs",
        "outputId": "e8825bdd-a569-4d2f-e906-0e8f03629589"
      },
      "execution_count": 71,
      "outputs": [
        {
          "output_type": "stream",
          "name": "stdout",
          "text": [
            "5\n",
            "<class 'int'>\n"
          ]
        }
      ]
    }
  ]
}